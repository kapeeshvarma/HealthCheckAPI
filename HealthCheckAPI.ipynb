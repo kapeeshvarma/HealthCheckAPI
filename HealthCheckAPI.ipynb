{
 "cells": [
  {
   "cell_type": "code",
   "execution_count": null,
   "id": "8b0144da",
   "metadata": {},
   "outputs": [],
   "source": [
    "#Import libraries\n",
    "\n",
    "from fastapi import FastAPI\n",
    "from fastapi.staticfiles import StaticFiles\n",
    "import json\n",
    "import random\n",
    "import sqlite3\n",
    "import matplotlib.pyplot as plt\n",
    "import asyncio\n",
    "from collections import deque\n",
    "import os\n",
    "import networkx as nx"
   ]
  },
  {
   "cell_type": "code",
   "execution_count": null,
   "id": "b1d7efc3",
   "metadata": {},
   "outputs": [],
   "source": [
    "#Initialization\n",
    "\n",
    "app = FastAPI()\n",
    "\n",
    "# Serve static files (e.g., images) from the 'static' directory\n",
    "app.mount(\"/static\", StaticFiles(directory=\"static\"), name=\"static\")"
   ]
  },
  {
   "cell_type": "code",
   "execution_count": null,
   "id": "aacfd70a",
   "metadata": {},
   "outputs": [],
   "source": [
    "# Sample DAG as JSON\n",
    "\n",
    "def get_sample_graph():\n",
    "    return {\n",
    "        \"Step 1\": [\"Step 2\"],\n",
    "        \"Step 2\": [\"Step 3\", \"Step 4\"],\n",
    "        \"Step 3\": [\"Step 5\", \"Step 7\"],\n",
    "        \"Step 4\": [\"Step 9\"],\n",
    "        \"Step 5\": [\"Step 6\"],\n",
    "        \"Step 6\": [\"Step 10\"],\n",
    "        \"Step 7\": [\"Step 8\"],\n",
    "        \"Step 8\": [\"Step 10\"],\n",
    "        \"Step 9\": [\"Step 10\"],\n",
    "        \"Step 10\": [\"Step 11\"],\n",
    "        \"Step 11\": []\n",
    "    }"
   ]
  },
  {
   "cell_type": "code",
   "execution_count": null,
   "id": "993db1e7",
   "metadata": {},
   "outputs": [],
   "source": [
    "# Database setup\n",
    "\n",
    "def init_db():\n",
    "    conn = sqlite3.connect(\"health_check.db\")\n",
    "    c = conn.cursor()\n",
    "    c.execute(\"\"\"\n",
    "    CREATE TABLE IF NOT EXISTS health_status (\n",
    "        node TEXT PRIMARY KEY,\n",
    "        status TEXT\n",
    "    )\n",
    "    \"\"\")\n",
    "    conn.commit()\n",
    "    conn.close()\n",
    "\n",
    "init_db()"
   ]
  },
  {
   "cell_type": "code",
   "execution_count": null,
   "id": "f57ef176",
   "metadata": {},
   "outputs": [],
   "source": [
    "# Simulate health checks\n",
    "\n",
    "async def check_health(node: str):\n",
    "    await asyncio.sleep(random.uniform(0.5, 1.5))  # Simulate async delay\n",
    "    return random.choice([\"healthy\", \"unhealthy\"])"
   ]
  },
  {
   "cell_type": "code",
   "execution_count": null,
   "id": "4453bfed",
   "metadata": {},
   "outputs": [],
   "source": [
    "# Store results in the database\n",
    "\n",
    "def store_health_status(results: dict):\n",
    "    conn = sqlite3.connect(\"health_check.db\")\n",
    "    c = conn.cursor()\n",
    "    for node, status in results.items():\n",
    "        c.execute(\"REPLACE INTO health_status (node, status) VALUES (?, ?)\", (node, status))\n",
    "    conn.commit()\n",
    "    conn.close()"
   ]
  },
  {
   "cell_type": "code",
   "execution_count": null,
   "id": "c026d968",
   "metadata": {},
   "outputs": [],
   "source": [
    "# BFS traversal and health check\n",
    "\n",
    "async def process_graph(graph_data: dict):\n",
    "    queue = deque([list(graph_data.keys())[0]])  # Start from an arbitrary node (Step 1)\n",
    "    visited = set()\n",
    "    tasks = {}\n",
    "    \n",
    "    while queue:\n",
    "        node = queue.popleft()\n",
    "        if node not in visited:\n",
    "            visited.add(node)\n",
    "            tasks[node] = check_health(node)\n",
    "            for neighbor in graph_data.get(node, []):\n",
    "                if neighbor not in visited:\n",
    "                    queue.append(neighbor)\n",
    "    \n",
    "    results = await asyncio.gather(*tasks.values())\n",
    "    health_results = dict(zip(tasks.keys(), results))\n",
    "    \n",
    "    store_health_status(health_results)\n",
    "    return health_results"
   ]
  },
  {
   "cell_type": "code",
   "execution_count": null,
   "id": "11cbf2f5",
   "metadata": {},
   "outputs": [],
   "source": [
    "# Graph visualization\n",
    "\n",
    "def visualize_graph(graph_data, health_results):\n",
    "    os.makedirs(\"static\", exist_ok=True)  # Create 'static' directory if it doesn't exist\n",
    "    \n",
    "    # Create the directed graph using networkx\n",
    "    G = nx.DiGraph(graph_data)\n",
    "    \n",
    "    # Use shell_layout for better node positioning in layers\n",
    "    pos = nx.shell_layout(G)  # Layers are determined based on the node's connectivity\n",
    "    \n",
    "    plt.figure(figsize=(12, 10))\n",
    "\n",
    "    # Draw the nodes with color indicating health status\n",
    "    node_colors = [(\"green\" if health_results.get(node) == \"healthy\" else \"red\") for node in G.nodes()]\n",
    "    nx.draw_networkx_nodes(G, pos, node_size=4000, node_color=node_colors, edgecolors=\"black\")\n",
    "\n",
    "    # Draw the edges with arrows\n",
    "    nx.draw_networkx_edges(G, pos, edgelist=G.edges(), edge_color=\"black\", width=2, arrowstyle='-|>', arrowsize=60, connectionstyle='arc3,rad=0.1')\n",
    "\n",
    "    # Draw labels for nodes\n",
    "    nx.draw_networkx_labels(G, pos, font_size=10, font_color=\"white\", font_weight=\"bold\")\n",
    "    \n",
    "    plt.axis(\"off\")  # Hide the axes\n",
    "    plt.tight_layout()  # Improve layout\n",
    "    plt.savefig(\"static/dag_health.png\")  # Save the graph image in the 'static' folder"
   ]
  },
  {
   "cell_type": "code",
   "execution_count": null,
   "id": "9b222824",
   "metadata": {},
   "outputs": [],
   "source": [
    "# Main function\n",
    "\n",
    "@app.get(\"/run_health_check\")\n",
    "async def run_health_check():\n",
    "    graph_data = get_sample_graph()\n",
    "    health_results = await process_graph(graph_data)\n",
    "    visualize_graph(graph_data, health_results)\n",
    "    return {\"message\": \"Health check completed\", \"results\": health_results, \"image_url\": \"/static/dag_health.png\"}"
   ]
  }
 ],
 "metadata": {
  "kernelspec": {
   "display_name": "Python 3 (ipykernel)",
   "language": "python",
   "name": "python3"
  },
  "language_info": {
   "codemirror_mode": {
    "name": "ipython",
    "version": 3
   },
   "file_extension": ".py",
   "mimetype": "text/x-python",
   "name": "python",
   "nbconvert_exporter": "python",
   "pygments_lexer": "ipython3",
   "version": "3.9.12"
  }
 },
 "nbformat": 4,
 "nbformat_minor": 5
}
